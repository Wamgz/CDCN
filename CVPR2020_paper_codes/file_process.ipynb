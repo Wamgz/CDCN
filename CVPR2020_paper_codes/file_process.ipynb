{
 "cells": [
  {
   "cell_type": "code",
   "execution_count": 22,
   "metadata": {},
   "outputs": [],
   "source": [
    "import os\n",
    "import numpy as np"
   ]
  },
  {
   "cell_type": "code",
   "execution_count": 39,
   "metadata": {},
   "outputs": [],
   "source": [
    "root_dir = '/root/autodl-tmp/oulu'\n",
    "depth_dir = '/root/autodl-tmp/oulu_depth'\n",
    "modes = ['Train', 'Test', 'Dev']\n",
    "avi_path_modes = os.path.join(root_dir, '{}_files')"
   ]
  },
  {
   "cell_type": "code",
   "execution_count": 35,
   "metadata": {},
   "outputs": [
    {
     "name": "stdout",
     "output_type": "stream",
     "text": [
      "mode: Train jpgs: 1800\n",
      "mode: Train bbox: 1800\n",
      "mode: Train depth: 1800\n",
      "mode: Train should len: 1800\n",
      "\n",
      "mode: Test jpgs: 1800\n",
      "mode: Test bbox: 1800\n",
      "mode: Test depth: 1800\n",
      "mode: Test should len: 1800\n",
      "\n",
      "mode: Dev jpgs: 1350\n",
      "mode: Dev bbox: 1350\n",
      "mode: Dev depth: 1350\n",
      "mode: Dev should len: 1350\n",
      "\n"
     ]
    }
   ],
   "source": [
    "modes = ['Train', 'Test', 'Dev']\n",
    "for mode in modes:\n",
    "    all_files_name_list = []\n",
    "    miss_files_name_list = {}\n",
    "    print('mode: ' + mode + ' jpgs: ' + str(len(os.listdir(os.path.join(depth_dir, mode + '_jpgs')))))\n",
    "    print('mode: ' + mode + ' bbox: ' + str(len(os.listdir(os.path.join(depth_dir, mode + '_bbox')))))\n",
    "    print('mode: ' + mode + ' depth: ' + str(len(os.listdir(os.path.join(depth_dir, mode + '_depth')))))\n",
    "    \n",
    "    with open(os.path.join(root_dir, mode + '_all.txt'), 'r') as f:\n",
    "        all_files_list = f.readlines()\n",
    "        all_files_name_list = [file.strip().split('/')[-1].split('.')[0] for file in all_files_list if file.strip().endswith('.avi')]\n",
    "        print('mode: ' + str(mode) + ' should len: ' + str(len(all_files_name_list)))\n",
    "    print()\n",
    "        "
   ]
  },
  {
   "cell_type": "code",
   "execution_count": 49,
   "metadata": {},
   "outputs": [],
   "source": [
    "modes = ['Train', 'Test', 'Dev']\n",
    "res = []\n",
    "f = open('./all_miss.txt', 'w')\n",
    "\n",
    "for mode in modes:\n",
    "    bbox_name_list = os.listdir(os.path.join(depth_dir, mode + '_bbox'))\n",
    "    for bbox_name in bbox_name_list:\n",
    "        bbox_path = os.path.join(depth_dir, mode + '_bbox', bbox_name)\n",
    "        jpgs_path = os.path.join(depth_dir, mode + '_jpgs', bbox_name)\n",
    "        res.append(bbox_path)\n",
    "        if len(os.listdir(bbox_path)) < 80 and len(os.listdir(jpgs_path)) >= 80:\n",
    "            print(bbox_path)\n",
    "f.writelines(bbox_path)\n",
    "        "
   ]
  }
 ],
 "metadata": {
  "kernelspec": {
   "display_name": "CDCN",
   "language": "python",
   "name": "python3"
  },
  "language_info": {
   "codemirror_mode": {
    "name": "ipython",
    "version": 3
   },
   "file_extension": ".py",
   "mimetype": "text/x-python",
   "name": "python",
   "nbconvert_exporter": "python",
   "pygments_lexer": "ipython3",
   "version": "3.8.10"
  },
  "orig_nbformat": 4,
  "vscode": {
   "interpreter": {
    "hash": "29a305130f74ab61b1ab4ab7468dc6e27d0642d4060ed00219a148371441e6d2"
   }
  }
 },
 "nbformat": 4,
 "nbformat_minor": 2
}
